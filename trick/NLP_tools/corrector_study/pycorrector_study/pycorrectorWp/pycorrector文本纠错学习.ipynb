{
 "cells": [
  {
   "cell_type": "markdown",
   "metadata": {},
   "source": [
    "#  pycorrector文本纠错学习"
   ]
  },
  {
   "cell_type": "markdown",
   "metadata": {},
   "source": [
    "## base_demo.py \n",
    "\n",
    "调用了pycorrector.correct方法进行纠错，入参是待纠错的语句，输出是原句和出错的词以及纠正的词，和具体位置。"
   ]
  },
  {
   "cell_type": "code",
   "execution_count": 2,
   "metadata": {},
   "outputs": [
    {
     "name": "stdout",
     "output_type": "stream",
     "text": [
      "Downloading data from https://deepspeech.bj.bcebos.com/zh_lm/zh_giga.no_cna_cmn.prune01244.klm\n",
      "2953396224/2953395058 [==============================] - 470s 0us/step\n",
      "少先队员应该为老人让座 [['因该', '应该', 4, 6], ['坐', '座', 10, 11]]\n"
     ]
    }
   ],
   "source": [
    "import sys\n",
    "sys.path.append(\"..\")\n",
    "import pycorrector\n",
    "\n",
    "pycorrector.set_log_level('INFO')\n",
    "if __name__ == '__main__':\n",
    "    corrected_sent, detail = pycorrector.correct('少先队员因该为老人让坐')\n",
    "    print(corrected_sent, detail)"
   ]
  },
  {
   "cell_type": "code",
   "execution_count": null,
   "metadata": {},
   "outputs": [],
   "source": []
  }
 ],
 "metadata": {
  "hide_input": false,
  "kernelspec": {
   "display_name": "pydemo",
   "language": "python",
   "name": "pydemo"
  },
  "language_info": {
   "codemirror_mode": {
    "name": "ipython",
    "version": 3
   },
   "file_extension": ".py",
   "mimetype": "text/x-python",
   "name": "python",
   "nbconvert_exporter": "python",
   "pygments_lexer": "ipython3",
   "version": "3.6.12"
  },
  "toc": {
   "base_numbering": 1,
   "nav_menu": {},
   "number_sections": true,
   "sideBar": true,
   "skip_h1_title": false,
   "title_cell": "Table of Contents",
   "title_sidebar": "Contents",
   "toc_cell": false,
   "toc_position": {},
   "toc_section_display": true,
   "toc_window_display": false
  }
 },
 "nbformat": 4,
 "nbformat_minor": 2
}
